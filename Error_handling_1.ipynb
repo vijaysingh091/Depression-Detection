{
 "cells": [
  {
   "cell_type": "code",
   "execution_count": 2,
   "id": "2423bb58-3689-42fc-a73a-c3c6414207d7",
   "metadata": {},
   "outputs": [
    {
     "name": "stdout",
     "output_type": "stream",
     "text": [
      "✓ Audio CSV exists: 26 rows, 69 columns\n",
      "  Columns: ['mfcc_0_mean', 'mfcc_0_std', 'mfcc_0_min', 'mfcc_0_max', 'mfcc_1_mean']...\n",
      "  Session IDs: [np.int64(300), np.int64(301), np.int64(302), np.int64(303), np.int64(304), np.int64(305), np.int64(306), np.int64(307), np.int64(308), np.int64(309), np.int64(310), np.int64(311), np.int64(312), np.int64(313), np.int64(314), np.int64(315), np.int64(316), np.int64(317), np.int64(318), np.int64(319), np.int64(320), np.int64(321), np.int64(322), np.int64(323), np.int64(324), np.int64(325)]\n",
      "\n",
      "✓ Text CSV exists: 26 rows, 769 columns\n",
      "  Columns: ['session_id', 'feat_0', 'feat_1', 'feat_2', 'feat_3']...\n",
      "  Session IDs: [np.int64(300), np.int64(301), np.int64(302), np.int64(303), np.int64(304), np.int64(305), np.int64(306), np.int64(307), np.int64(308), np.int64(309), np.int64(310), np.int64(311), np.int64(312), np.int64(313), np.int64(314), np.int64(315), np.int64(316), np.int64(317), np.int64(318), np.int64(319), np.int64(320), np.int64(321), np.int64(322), np.int64(323), np.int64(324), np.int64(325)]\n",
      "\n",
      "✓ Video CSV exists: 26 rows, 76 columns\n",
      "  Columns: ['AU01_r_mean', 'AU01_r_std', 'AU01_r_max', 'AU02_r_mean', 'AU02_r_std']...\n",
      "  Session IDs: [np.int64(300), np.int64(301), np.int64(302), np.int64(303), np.int64(304), np.int64(305), np.int64(306), np.int64(307), np.int64(308), np.int64(309), np.int64(310), np.int64(311), np.int64(312), np.int64(313), np.int64(314), np.int64(315), np.int64(316), np.int64(317), np.int64(318), np.int64(319), np.int64(320), np.int64(321), np.int64(322), np.int64(323), np.int64(324), np.int64(325)]\n"
     ]
    }
   ],
   "source": [
    "import pandas as pd\n",
    "from pathlib import Path\n",
    "\n",
    "PROJECT_DIR = Path(r'C:\\Users\\VIJAY BHUSHAN SINGH\\depression_detection_project')\n",
    "\n",
    "# Check audio features\n",
    "audio_path = PROJECT_DIR / 'data' / 'features' / 'audio_features.csv'\n",
    "if audio_path.exists():\n",
    "    audio_df = pd.read_csv(audio_path)\n",
    "    print(f\"✓ Audio CSV exists: {len(audio_df)} rows, {len(audio_df.columns)} columns\")\n",
    "    print(f\"  Columns: {list(audio_df.columns[:5])}...\")  # First 5 columns\n",
    "    print(f\"  Session IDs: {sorted(audio_df['session_id'].unique())}\")\n",
    "else:\n",
    "    print(\"✗ Audio CSV not found!\")\n",
    "\n",
    "# Check text features\n",
    "text_path = PROJECT_DIR / 'data' / 'features' / 'text_features.csv'\n",
    "if text_path.exists():\n",
    "    text_df = pd.read_csv(text_path)\n",
    "    print(f\"\\n✓ Text CSV exists: {len(text_df)} rows, {len(text_df.columns)} columns\")\n",
    "    print(f\"  Columns: {list(text_df.columns[:5])}...\")\n",
    "    print(f\"  Session IDs: {sorted(text_df['session_id'].unique())}\")\n",
    "else:\n",
    "    print(\"✗ Text CSV not found!\")\n",
    "\n",
    "# Check video features\n",
    "video_path = PROJECT_DIR / 'data' / 'features' / 'video_features.csv'\n",
    "if video_path.exists():\n",
    "    video_df = pd.read_csv(video_path)\n",
    "    print(f\"\\n✓ Video CSV exists: {len(video_df)} rows, {len(video_df.columns)} columns\")\n",
    "    print(f\"  Columns: {list(video_df.columns[:5])}...\")\n",
    "    print(f\"  Session IDs: {sorted(video_df['session_id'].unique())}\")\n",
    "else:\n",
    "    print(\"✗ Video CSV not found!\")"
   ]
  },
  {
   "cell_type": "code",
   "execution_count": null,
   "id": "4aa79912-6d8a-4a01-bc8c-46b65f4ccbff",
   "metadata": {},
   "outputs": [],
   "source": []
  }
 ],
 "metadata": {
  "kernelspec": {
   "display_name": "Python 3 (ipykernel)",
   "language": "python",
   "name": "python3"
  },
  "language_info": {
   "codemirror_mode": {
    "name": "ipython",
    "version": 3
   },
   "file_extension": ".py",
   "mimetype": "text/x-python",
   "name": "python",
   "nbconvert_exporter": "python",
   "pygments_lexer": "ipython3",
   "version": "3.12.4"
  }
 },
 "nbformat": 4,
 "nbformat_minor": 5
}
