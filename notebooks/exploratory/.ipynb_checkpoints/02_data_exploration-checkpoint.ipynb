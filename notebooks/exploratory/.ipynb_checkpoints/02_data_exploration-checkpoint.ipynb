{
  "cells": [
    {
      "cell_type": "markdown",
      "metadata": {},
      "source": [
        "# DAIC-WOZ Dataset Exploration"
      ]
    },
    {
      "cell_type": "code",
      "execution_count": null,
      "metadata": {},
      "outputs": [],
      "source": [
        "import os\n",
        "import pandas as pd\n",
        "import numpy as np\n",
        "import matplotlib.pyplot as plt\n",
        "import seaborn as sns\n",
        "from pathlib import Path\n",
        "\n",
        "sns.set_style('whitegrid')\n",
        "plt.rcParams['figure.figsize'] = (12, 6)"
      ]
    },
    {
      "cell_type": "code",
      "execution_count": null,
      "metadata": {},
      "outputs": [],
      "source": [
        "# Define paths - UPDATE WITH YOUR PATH\n",
        "DATA_DIR = Path(r'C:\\Users\\VIJAY BHUSHAN SINGH\\depression_detection_project\\data\\raw\\DAIC-WOZ')\n",
        "TRAIN_CSV = DATA_DIR / 'train_split_Depression_AVEC2017.csv'\n",
        "\n",
        "print(f'Data directory: {DATA_DIR}')\n",
        "print(f'Exists: {DATA_DIR.exists()}')"
      ]
    },
    {
      "cell_type": "code",
      "execution_count": null,
      "metadata": {},
      "outputs": [],
      "source": [
        "# Load training data\n",
        "if TRAIN_CSV.exists():\n",
        "    train_df = pd.read_csv(TRAIN_CSV)\n",
        "    print('Train data loaded!')\n",
        "    print(f'Shape: {train_df.shape}')\n",
        "    display(train_df.head())\n",
        "else:\n",
        "    print('\u274c File not found. Download dataset first.')"
      ]
    },
    {
      "cell_type": "markdown",
      "metadata": {},
      "source": [
        "## Next: Download dataset and extract features"
      ]
    }
  ],
  "metadata": {
    "kernelspec": {
      "display_name": "Python 3",
      "language": "python",
      "name": "python3"
    },
    "language_info": {
      "name": "python",
      "version": "3.8.0"
    }
  },
  "nbformat": 4,
  "nbformat_minor": 5
}