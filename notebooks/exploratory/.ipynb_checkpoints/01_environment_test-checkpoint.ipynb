{
  "cells": [
    {
      "cell_type": "markdown",
      "metadata": {},
      "source": [
        "# Environment Setup Test\nRun all cells to verify installation."
      ]
    },
    {
      "cell_type": "code",
      "execution_count": null,
      "metadata": {},
      "outputs": [],
      "source": [
        "import sys\n",
        "print(f'Python version: {sys.version}')\n",
        "\n",
        "import numpy as np\n",
        "import pandas as pd\n",
        "import matplotlib.pyplot as plt\n",
        "import seaborn as sns\n",
        "import torch\n",
        "import librosa\n",
        "import cv2\n",
        "from transformers import BertTokenizer\n",
        "\n",
        "print('\\n\u2713 All imports successful!')\n",
        "print(f'NumPy: {np.__version__}')\n",
        "print(f'Pandas: {pd.__version__}')\n",
        "print(f'PyTorch: {torch.__version__}')\n",
        "print(f'CUDA available: {torch.cuda.is_available()}')"
      ]
    },
    {
      "cell_type": "code",
      "execution_count": null,
      "metadata": {},
      "outputs": [],
      "source": [
        "# Test plotting\n",
        "plt.figure(figsize=(10, 4))\n",
        "x = np.linspace(0, 10, 100)\n",
        "plt.plot(x, np.sin(x), label='sin(x)')\n",
        "plt.plot(x, np.cos(x), label='cos(x)')\n",
        "plt.legend()\n",
        "plt.title('Matplotlib Test')\n",
        "plt.show()\n",
        "print('\u2713 Plotting works!')"
      ]
    },
    {
      "cell_type": "code",
      "execution_count": null,
      "metadata": {},
      "outputs": [],
      "source": [
        "# Test PyTorch\n",
        "x = torch.randn(3, 3)\n",
        "print('Random tensor:')\n",
        "print(x)\n",
        "print(f'\\nDevice: {x.device}')\n",
        "print('\u2713 PyTorch works!')"
      ]
    },
    {
      "cell_type": "markdown",
      "metadata": {},
      "source": [
        "## \u2713 All Tests Passed!\nYour environment is ready."
      ]
    }
  ],
  "metadata": {
    "kernelspec": {
      "display_name": "Python 3",
      "language": "python",
      "name": "python3"
    },
    "language_info": {
      "name": "python",
      "version": "3.8.0"
    }
  },
  "nbformat": 4,
  "nbformat_minor": 5
}