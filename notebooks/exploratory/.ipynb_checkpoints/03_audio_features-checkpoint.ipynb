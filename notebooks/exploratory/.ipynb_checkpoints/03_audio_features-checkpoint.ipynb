{
  "cells": [
    {
      "cell_type": "markdown",
      "metadata": {},
      "source": [
        "# Audio Feature Extraction"
      ]
    },
    {
      "cell_type": "code",
      "execution_count": null,
      "metadata": {},
      "outputs": [],
      "source": [
        "import librosa\n",
        "import librosa.display\n",
        "import numpy as np\n",
        "import matplotlib.pyplot as plt\n",
        "from pathlib import Path"
      ]
    },
    {
      "cell_type": "code",
      "execution_count": null,
      "metadata": {},
      "outputs": [],
      "source": [
        "# Load sample audio\n",
        "AUDIO_FILE = Path(r'C:\\Users\\VIJAY BHUSHAN SINGH\\depression_detection_project\\data\\raw\\DAIC-WOZ\\300_P\\300_AUDIO.wav')\n",
        "\n",
        "if AUDIO_FILE.exists():\n",
        "    audio, sr = librosa.load(AUDIO_FILE, sr=None)\n",
        "    print(f'Loaded: {AUDIO_FILE.name}')\n",
        "    print(f'Duration: {len(audio)/sr:.2f} seconds')\n",
        "else:\n",
        "    print('\u274c Audio file not found')"
      ]
    },
    {
      "cell_type": "markdown",
      "metadata": {},
      "source": [
        "## Extract MFCCs, pitch, and other features here"
      ]
    }
  ],
  "metadata": {
    "kernelspec": {
      "display_name": "Python 3",
      "language": "python",
      "name": "python3"
    },
    "language_info": {
      "name": "python",
      "version": "3.8.0"
    }
  },
  "nbformat": 4,
  "nbformat_minor": 5
}