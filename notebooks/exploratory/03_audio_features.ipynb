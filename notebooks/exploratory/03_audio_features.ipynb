{
 "cells": [
  {
   "cell_type": "markdown",
   "id": "7cfeb249",
   "metadata": {},
   "source": [
    "# Audio Feature Extraction"
   ]
  },
  {
   "cell_type": "code",
   "execution_count": 3,
   "id": "1d45ac42",
   "metadata": {},
   "outputs": [],
   "source": [
    "import librosa\n",
    "import librosa.display\n",
    "import numpy as np\n",
    "import matplotlib.pyplot as plt\n",
    "from pathlib import Path"
   ]
  },
  {
   "cell_type": "code",
   "execution_count": 4,
   "id": "fd4f4468",
   "metadata": {},
   "outputs": [
    {
     "name": "stdout",
     "output_type": "stream",
     "text": [
      "Loaded: 300_AUDIO.wav\n",
      "Duration: 648.50 seconds\n"
     ]
    }
   ],
   "source": [
    "# Load sample audio\n",
    "AUDIO_FILE = Path(r'C:\\Users\\VIJAY BHUSHAN SINGH\\depression_detection_project\\data\\raw\\DAIC-WOZ\\300_P\\300_AUDIO.wav')\n",
    "\n",
    "if AUDIO_FILE.exists():\n",
    "    audio, sr = librosa.load(AUDIO_FILE, sr=None)\n",
    "    print(f'Loaded: {AUDIO_FILE.name}')\n",
    "    print(f'Duration: {len(audio)/sr:.2f} seconds')\n",
    "else:\n",
    "    print('❌ Audio file not found')"
   ]
  },
  {
   "cell_type": "markdown",
   "id": "aaf0fd32",
   "metadata": {},
   "source": [
    "## Extract MFCCs, pitch, and other features here"
   ]
  }
 ],
 "metadata": {
  "kernelspec": {
   "display_name": "Python 3 (ipykernel)",
   "language": "python",
   "name": "python3"
  },
  "language_info": {
   "codemirror_mode": {
    "name": "ipython",
    "version": 3
   },
   "file_extension": ".py",
   "mimetype": "text/x-python",
   "name": "python",
   "nbconvert_exporter": "python",
   "pygments_lexer": "ipython3",
   "version": "3.12.4"
  }
 },
 "nbformat": 4,
 "nbformat_minor": 5
}
